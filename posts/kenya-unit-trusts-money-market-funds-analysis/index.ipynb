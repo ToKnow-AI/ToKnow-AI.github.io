{
 "cells": [
  {
   "cell_type": "markdown",
   "metadata": {},
   "source": [
    "<!-- metadata: title -->\n",
    "# Kenya Unit Trusts: Money Market Fund(KES) Analysis\n",
    "\n",
    "<!-- metadata: subtitle -->\n",
    "> ### Can Kenyan Money Market Funds gurantee capital preservation? "
   ]
  },
  {
   "cell_type": "markdown",
   "metadata": {},
   "source": [
    "<!-- metadata: date, type=date -->\n",
    "**Published Date:**\n",
    "2024-03-03\n",
    "\n",
    "<!-- metadata: date-modified, type=date-->\n",
    "**Date Modified:**\n",
    "2024-05-05\n",
    "\n",
    "<!-- metadata: keywords, type=array -->\n",
    "**Keywords:**\n",
    "  - money\n",
    "  - kenya\n",
    "  - unit-trusts\n",
    "  - money-market-funds\n",
    "  - MMF\n",
    "\n",
    "<!-- metadata: categories, type=array -->\n",
    "**Categories:**\n",
    "  - kenya-unit-trusts\n",
    "  - money-market-funds"
   ]
  },
  {
   "cell_type": "markdown",
   "metadata": {},
   "source": [
    "## Description\n",
    "\n",
    "<!-- metadata: description -->\n",
    "Money market is a form of unit trust, where fund managers collect money from the group of investors, and invest on their behave. This reduces the overhead of managing your portfio and significantly reduces your risk. Let's statistically and critically analyze Money market funds in Kenya in general using publicly available information and hopefully paint a clearer picture of the state of unit trusts in Kenya. \n",
    "\n",
    "- What are the risk factors that exist? \n",
    "- What is the performance of money market funds?"
   ]
  },
  {
   "cell_type": "markdown",
   "metadata": {},
   "source": [
    "## Abstract\n",
    "\n",
    "<!-- metadata: abstract -->\n",
    "Lorem Ipsum is simply dummy text of the printing and typesetting industry. Lorem Ipsum has been the industry's standard dummy text ever since the 1500s, when an unknown printer took a galley of type and scrambled it to make a type specimen book. It has survived not only five centuries, but also the leap into electronic typesetting, remaining essentially unchanged. It was popularised in the 1960s with the release of Letraset sheets containing Lorem Ipsum passages, and more recently with desktop publishing software like Aldus PageMaker including versions of Lorem Ipsum."
   ]
  },
  {
   "cell_type": "markdown",
   "metadata": {},
   "source": [
    "## Introduction"
   ]
  },
  {
   "cell_type": "markdown",
   "metadata": {},
   "source": [
    "In Kenya, a good number of the population have a bank account, even if not the traditional bank account. It is estimated that by year 2029, 99.9% of Kenyans will be banked, ^[Population share with banking account in Kenya 2014-2029\n",
    "Published by J. Degenhard, Jan 30, 2024. <https://www.statista.com/forecasts/1149636/bank-account-penetration-forecast-in-kenya>]. With increase in financial access, financial literacy and regular individuals will want to venture in the teritory of finantial assets huunting for higher interest rates. One of the most attractive entry level high-yield financial asset is the unit trust, specifically the money market funds. Its easy to start, deposit, withdraw, and its interest is daily compunding, while offering higher interest than any bank."
   ]
  },
  {
   "cell_type": "markdown",
   "metadata": {},
   "source": [
    "## Analysis"
   ]
  },
  {
   "cell_type": "markdown",
   "metadata": {},
   "source": [
    "### Imports"
   ]
  },
  {
   "cell_type": "code",
   "execution_count": null,
   "metadata": {},
   "outputs": [],
   "source": [
    "import sys\n",
    "import os\n",
    "\n",
    "# Add parent directory to sys.path\n",
    "root_dir = os.path.abspath(os.path.join(os.getcwd(), '../..'))\n",
    "sys.path.append(root_dir)\n",
    "\n",
    "%load_ext autoreload\n",
    "%autoreload 2"
   ]
  },
  {
   "cell_type": "code",
   "execution_count": null,
   "metadata": {},
   "outputs": [],
   "source": [
    "import pandas as pd\n",
    "from pyppeteer.page import Page\n",
    "import asyncio\n",
    "from utils.web_screenshot import web_screenshot_async\n",
    "import json\n",
    "from utils.get_browser import get_browser_page_async"
   ]
  },
  {
   "cell_type": "markdown",
   "metadata": {},
   "source": [
    "### Fund Managers"
   ]
  },
  {
   "cell_type": "markdown",
   "metadata": {},
   "source": [
    "Let's start of by listing all the certified fund mangers in Kenya by CMA.^[Approved Fund Managers by CMA. <https://www.cma.or.ke/licensees-market-players/>]"
   ]
  },
  {
   "cell_type": "markdown",
   "metadata": {},
   "source": [
    "Lets start with a screenshot of the webpage."
   ]
  },
  {
   "cell_type": "code",
   "execution_count": null,
   "metadata": {},
   "outputs": [],
   "source": [
    "async def action(page: Page):\n",
    "    await page.waitForSelector('ul.module-accordion')\n",
    "    elements = await page.querySelectorAll('li .accordion-title')\n",
    "    # Iterate through the elements to find the one containing 'FUND MANAGERS'\n",
    "    for element in elements:\n",
    "        text_content = await page.evaluate('(element) => element.textContent', element)\n",
    "        if 'FUND MANAGERS' in text_content:\n",
    "            # Click on the target element\n",
    "            await element.click()\n",
    "            break\n",
    "    else:\n",
    "        print('Element not found')\n",
    "    await page.waitForSelector('li.current.builder-accordion-active')\n",
    "    await asyncio.sleep(1)\n",
    "\n",
    "await web_screenshot_async(\n",
    "    \"https://www.cma.or.ke/licensees-market-players/\", \n",
    "    action = action,\n",
    "    width=1500)"
   ]
  },
  {
   "cell_type": "markdown",
   "metadata": {},
   "source": [
    "Let's query the \"Fund Managers\" table."
   ]
  },
  {
   "cell_type": "code",
   "execution_count": null,
   "metadata": {},
   "outputs": [],
   "source": [
    "import io\n",
    "from bs4 import BeautifulSoup\n",
    "from urllib.request import urlopen\n",
    "\n",
    "html_content = urlopen(\"https://www.cma.or.ke/licensees-market-players/\").read()\n",
    "fund_managers_html_table = BeautifulSoup(html_content, \"html.parser\")\\\n",
    "    .find('span', string=\"FUND MANAGERS\")\\\n",
    "        .parent\\\n",
    "            .parent\\\n",
    "                .parent\\\n",
    "                    .find('table')\n",
    "\n",
    "fund_managers_df = pd.read_html(io.StringIO(str(fund_managers_html_table)))[0].dropna()\n",
    "fund_managers_df"
   ]
  },
  {
   "cell_type": "markdown",
   "metadata": {},
   "source": [
    "The address of `African Alliance Kenya Asset Management Limited` doesnt seem to be valid, lets populate it with `P.O. Box 27639 Nairobi 00506`"
   ]
  },
  {
   "cell_type": "code",
   "execution_count": null,
   "metadata": {},
   "outputs": [],
   "source": [
    "fund_managers_df.loc[fund_managers_df['LICENCE NO.'] == 165, 'ADDRESS'] = 'P.O. Box 27639 Nairobi 00506'\n",
    "fund_managers_df"
   ]
  },
  {
   "cell_type": "markdown",
   "metadata": {},
   "source": [
    "### Show a map of the fund managers"
   ]
  },
  {
   "cell_type": "markdown",
   "metadata": {},
   "source": [
    "ssss"
   ]
  },
  {
   "cell_type": "markdown",
   "metadata": {},
   "source": [
    "### Add head quarter location"
   ]
  },
  {
   "cell_type": "markdown",
   "metadata": {},
   "source": [
    "sssss"
   ]
  },
  {
   "cell_type": "markdown",
   "metadata": {},
   "source": [
    "### Getting the Perormance"
   ]
  },
  {
   "cell_type": "markdown",
   "metadata": {},
   "source": [
    "According to Capital Markets Authority, fund managers are required to publish their yields daily in a reputable newspaper. What this means accessing hostorical records requires a significant investment in time to collect, aggregate and validate the published yields. That not withstanding, two very important questions become obvious:\n",
    " - what is a reputbale newspaper? \n",
    " - what yield do they publish, gross or net?\n",
    " - What picture does an anualized daily rate paint?\n",
    " - Is interest deffered or carried forward (reporting a convervative figure and retaining the rest for rainy day to preserve a picture of good performance)?\n",
    "\n",
    "Luckily, one of the fund managers, one that has recently found its self in the courts far more often than it would have wished, does exelent investment and market research. It has a good-enough aggregate of fund managers and their performance weekly and monthly. We are going to crawl their data for analysis, and analyze it for manipulation.If the data comeout clean, we will analyze the trend of fund managers using the data."
   ]
  },
  {
   "cell_type": "markdown",
   "metadata": {},
   "source": [
    "### Cytton Research\n",
    "\n",
    "We are going to crawl the data from cytonn research, https://cytonn.com/researches/categories/1"
   ]
  },
  {
   "cell_type": "markdown",
   "metadata": {},
   "source": [
    "#### screen shots"
   ]
  },
  {
   "cell_type": "markdown",
   "metadata": {},
   "source": [
    "Lests start with a view of weekly reports"
   ]
  },
  {
   "cell_type": "code",
   "execution_count": null,
   "metadata": {},
   "outputs": [],
   "source": [
    "await web_screenshot_async(\n",
    "    \"https://cytonn.com/researches/categories/1\",\n",
    "    width=1000)"
   ]
  },
  {
   "cell_type": "markdown",
   "metadata": {},
   "source": [
    "Here is the latest report"
   ]
  },
  {
   "cell_type": "code",
   "execution_count": null,
   "metadata": {},
   "outputs": [],
   "source": [
    "await web_screenshot_async(\n",
    "    \"https://cytonnreport.com/research/progress-of-retirement\",\n",
    "    width=1000)"
   ]
  },
  {
   "cell_type": "markdown",
   "metadata": {},
   "source": [
    "Instead of directly crawling HTML from https://cytonn.com/researches/ page, we can instead crawl JSON from https://cytonnreport.com/research page, using the link https://cytonnreport.com/get/allreports."
   ]
  },
  {
   "cell_type": "code",
   "execution_count": null,
   "metadata": {},
   "outputs": [],
   "source": [
    "from pyppeteer.page import Request, Response\n",
    "\n",
    "async def get_all_cytonn_reports():\n",
    "    async def modify_json_request(request: Request):\n",
    "        if request.resourceType == \"fetch\" and request.url == \"https://cytonnreport.com/get/allreports\":\n",
    "            # Create a new request body\n",
    "            modified_data = json.dumps({\"pagination\": {\"per_page\": 700}}).encode(\"utf-8\")\n",
    "            # Create a new request with the modified data\n",
    "            await request.continue_(\n",
    "                overwritePostData=True,\n",
    "                postData=modified_data\n",
    "            )\n",
    "        else:\n",
    "            # Continue other requests as usual\n",
    "            await request.continue_()\n",
    "    page, browser = await get_browser_page_async()\n",
    "    # Enable request interception\n",
    "    await page.setRequestInterception(True)\n",
    "    page.on(\"request\", lambda req: asyncio.ensure_future(modify_json_request(req)))\n",
    "    # Navigate to the desired URL\n",
    "    await page.goto(\"https://cytonnreport.com/research\")\n",
    "    # Wait for the AJAX request and get the response\n",
    "    response: Response = await page.waitForResponse(lambda response: response.url == \"https://cytonnreport.com/get/allreports\")\n",
    "    response_body = await response.json()\n",
    "    await browser.close()\n",
    "    return response_body\n",
    "\n",
    "all_cytonn_reports = await get_all_cytonn_reports()\n",
    "all_cytonn_reports"
   ]
  },
  {
   "cell_type": "code",
   "execution_count": null,
   "metadata": {},
   "outputs": [],
   "source": [
    "[i for i in all_cytonn_reports['data']]"
   ]
  },
  {
   "cell_type": "markdown",
   "metadata": {},
   "source": [
    "[Disclaimer:](https://cytonn.com/uploads/downloads/progress-of-retirement-benefit-schemes-in-kenya-2024-cytonn-weekly-212024-vf.pdf) The views expressed in this publication are those of the writers where particulars are not\n",
    "warranted. This publication, which is in compliance with Section 2 of the Capital Markets Authority Act Cap\n",
    "485A, is meant for general information only and is not a warranty, representation, advice, or solicitation of\n",
    "any nature. Readers are advised in all circumstances to seek the advice of a registered investment advisor."
   ]
  }
 ],
 "metadata": {
  "kernelspec": {
   "display_name": ".venv",
   "language": "python",
   "name": "python3"
  },
  "language_info": {
   "codemirror_mode": {
    "name": "ipython",
    "version": 3
   },
   "file_extension": ".py",
   "mimetype": "text/x-python",
   "name": "python",
   "nbconvert_exporter": "python",
   "pygments_lexer": "ipython3",
   "version": "3.10.12"
  }
 },
 "nbformat": 4,
 "nbformat_minor": 2
}
