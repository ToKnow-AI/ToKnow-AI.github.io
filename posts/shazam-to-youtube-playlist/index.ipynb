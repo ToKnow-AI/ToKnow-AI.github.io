{
 "cells": [
  {
   "cell_type": "markdown",
   "metadata": {},
   "source": [
    "## Shazam to Youtube Playlist"
   ]
  },
  {
   "cell_type": "code",
   "execution_count": null,
   "metadata": {},
   "outputs": [],
   "source": [
    "import pandas as pd\n",
    "from pytube import Search, YouTube\n",
    "import gradio as gr\n",
    "from gradio.utils import NamedString"
   ]
  },
  {
   "cell_type": "code",
   "execution_count": null,
   "metadata": {},
   "outputs": [],
   "source": [
    "shazamlibrary_df = pd.read_csv('shazamlibrary.csv', header=1)\n",
    "shazamlibrary_df"
   ]
  },
  {
   "cell_type": "code",
   "execution_count": null,
   "metadata": {},
   "outputs": [],
   "source": [
    "shazamlibrary_df = shazamlibrary_df.drop_duplicates(subset=['TrackKey'])[['Title', 'Artist']]\n",
    "shazamlibrary_df"
   ]
  },
  {
   "cell_type": "code",
   "execution_count": null,
   "metadata": {},
   "outputs": [],
   "source": [
    "def get_youtube_song(title: str, artist: str) -> YouTube | None:\n",
    "    search_result = Search(f'{title} by {artist}')\n",
    "    return search_result.results[0] if search_result.results else None"
   ]
  },
  {
   "cell_type": "code",
   "execution_count": null,
   "metadata": {},
   "outputs": [],
   "source": [
    "search_title, search_artist = shazamlibrary_df.loc[10, ['Title', 'Artist']].values\n",
    "youtube: YouTube = get_youtube_song(search_title, search_artist)\n",
    "youtube.watch_url"
   ]
  },
  {
   "cell_type": "code",
   "execution_count": 31,
   "metadata": {},
   "outputs": [
    {
     "name": "stdout",
     "output_type": "stream",
     "text": [
      "Keyboard interruption in main thread... closing server.\n"
     ]
    },
    {
     "data": {
      "text/plain": []
     },
     "execution_count": 31,
     "metadata": {},
     "output_type": "execute_result"
    }
   ],
   "source": [
    "def embed_html(playlist: pd.DataFrame):\n",
    "    search_title, search_artist = playlist.loc[9, ['Title', 'Artist']].values\n",
    "    youtube: YouTube = get_youtube_song(search_title, search_artist)\n",
    "    \n",
    "    iframe = f'''\n",
    "        <iframe \n",
    "            width=\"100%\" \n",
    "            height=\"100%\" \n",
    "            style=\"height:100%; width:100%; min-height: 50vh;\"\n",
    "            src=\"{youtube.embed_url}?autoplay=1\"\n",
    "            frameborder=\"0\" \n",
    "            allow=\"accelerometer; \n",
    "            autoplay; \n",
    "            clipboard-write; \n",
    "            encrypted-media; \n",
    "            gyroscope; \n",
    "            picture-in-picture\" \n",
    "            allowfullscreen>\n",
    "        </iframe>'''\n",
    "    return gr.HTML(iframe, label=\"Youtube Player\", visible=True)\n",
    "\n",
    "def upload_file(file: NamedString):\n",
    "    shazamlibrary_df = pd.read_csv(file, header=1)\n",
    "    shazamlibrary_df = shazamlibrary_df.drop_duplicates(subset=['TrackKey'])[['Title', 'Artist']]\n",
    "    playlist = gr.DataFrame(\n",
    "        shazamlibrary_df, \n",
    "        label=\"Playlist\", \n",
    "        visible=True,\n",
    "        column_widths = ['60%', '40%'],\n",
    "        col_count=(2, 'fixed'),\n",
    "        row_count=(len(shazamlibrary_df), 'fixed'))\n",
    "    player = embed_html(shazamlibrary_df)\n",
    "    return (playlist, player)\n",
    "\n",
    "with gr.Blocks() as app:\n",
    "    gr.Markdown(\"<h1><center>Play your Shazam Playlist from Youtube</center></h1>\")\n",
    "    gr.Markdown(\"<center>Download the CSV of your playlist from <https://www.shazam.com/myshazam>. </center>\")\n",
    "    gr.Markdown(\"<center>Upload your Shazam Playlist CSV file.</center>\")\n",
    "    gr.HTML('<hr/>')\n",
    "    csv = gr.UploadButton(\n",
    "        label='Upload Shazam Playlist CSV',\n",
    "        file_count=\"single\",\n",
    "        file_types = ['.csv'])\n",
    "    with gr.Row():\n",
    "        with gr.Column(2):\n",
    "            player = gr.HTML(label=\"Youtube Player\", visible=False)\n",
    "        with gr.Column(1):\n",
    "            playlist = gr.DataFrame(label=\"Playlist\", visible=False)\n",
    "    csv.upload(upload_file, csv, [playlist, player])\n",
    "\n",
    "app.launch(debug=True)"
   ]
  }
 ],
 "metadata": {
  "kernelspec": {
   "display_name": ".venv",
   "language": "python",
   "name": "python3"
  },
  "language_info": {
   "codemirror_mode": {
    "name": "ipython",
    "version": 3
   },
   "file_extension": ".py",
   "mimetype": "text/x-python",
   "name": "python",
   "nbconvert_exporter": "python",
   "pygments_lexer": "ipython3",
   "version": "3.10.12"
  }
 },
 "nbformat": 4,
 "nbformat_minor": 2
}
